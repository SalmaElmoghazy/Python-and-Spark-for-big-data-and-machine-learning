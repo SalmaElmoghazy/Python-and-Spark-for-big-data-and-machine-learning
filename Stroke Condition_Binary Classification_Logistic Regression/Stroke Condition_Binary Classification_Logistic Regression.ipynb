{
 "cells": [
  {
   "cell_type": "code",
   "execution_count": 1,
   "id": "24dfd05c",
   "metadata": {},
   "outputs": [
    {
     "data": {
      "text/html": [
       "<style>pre { white-space: pre !important; }</style>"
      ],
      "text/plain": [
       "<IPython.core.display.HTML object>"
      ]
     },
     "metadata": {},
     "output_type": "display_data"
    }
   ],
   "source": [
    "from IPython.display import display, HTML\n",
    "display(HTML(\"<style>pre { white-space: pre !important; }</style>\"))"
   ]
  },
  {
   "cell_type": "markdown",
   "id": "8326ba88",
   "metadata": {},
   "source": [
    "## Objective:\n",
    "- The objective from this project is to create a <b>Logistic Regression Classifier</b> to predict the <b>Stroke Condition</b>.\n",
    "- <b>Stoke</b> is a condition in which either the blood flow to the brain stops or blood flow is excessive.\n",
    "- It is required to obtain <b>ROC > 0.65</b>."
   ]
  },
  {
   "cell_type": "markdown",
   "id": "0eb78c16",
   "metadata": {},
   "source": [
    "### Data:\n",
    "- Data is provided in csv format in a file named <b>healthcare-dataset-stroke-data.csv</b>"
   ]
  },
  {
   "cell_type": "markdown",
   "id": "7c842b79",
   "metadata": {},
   "source": [
    "### Column names and data types are as follow:\n",
    "- id, integer.\n",
    "- gender, string.\n",
    "- age, double.\n",
    "- hypertension, integer.\n",
    "- heart_disease, integer.\n",
    "- ever_married, string.\n",
    "- work_type, string.\n",
    "- Residence_type, string.\n",
    "- avg_glucose_level, double.\n",
    "- bmi, double.\n",
    "- smoking_status, string.\n",
    "- stroke, integer <b>(Target Label)</b>.\n",
    "If the person has stroke the stroke label value is <b>\"1\"</b> otherwise <b>\"0\"</b>."
   ]
  },
  {
   "cell_type": "markdown",
   "id": "6971f788",
   "metadata": {
    "id": "gUxZnsqrmynW"
   },
   "source": [
    "## To perform this task follow the following guiding steps:"
   ]
  },
  {
   "cell_type": "markdown",
   "id": "e31bc851",
   "metadata": {
    "id": "gUxZnsqrmynW"
   },
   "source": [
    "### Create a spark session and import the required libraries"
   ]
  },
  {
   "cell_type": "code",
   "execution_count": 2,
   "id": "ab3ba311",
   "metadata": {},
   "outputs": [],
   "source": [
    "import findspark\n",
    "findspark.init()\n",
    "from pyspark.sql import SparkSession\n",
    "import pyspark.sql.functions as fn\n",
    "\n",
    "spark = SparkSession.builder.getOrCreate()"
   ]
  },
  {
   "cell_type": "markdown",
   "id": "843b8468",
   "metadata": {
    "id": "gUxZnsqrmynW"
   },
   "source": [
    "### Create a data schema programatically"
   ]
  },
  {
   "cell_type": "code",
   "execution_count": 3,
   "id": "8616fe16",
   "metadata": {},
   "outputs": [],
   "source": [
    "from pyspark.sql.types import *\n",
    "\n",
    "recordSchema = StructType([StructField('id', IntegerType(), True),\n",
    "                           StructField('gender', StringType(), True),\n",
    "                           StructField('age', DoubleType(), True),\n",
    "                           StructField('hypertension', IntegerType(), True),\n",
    "                           StructField('heart_disease', IntegerType(), True),\n",
    "                           StructField('ever_married', StringType(), True),\n",
    "                           StructField('work_type', StringType(), True),\n",
    "                           StructField('Residence_type', StringType(), True), \n",
    "                           StructField('avg_glucose_level', DoubleType(), True), \n",
    "                           StructField('bmi', DoubleType(), True),\n",
    "                           StructField('smoking_status', StringType(), True), \n",
    "                           StructField('stroke', IntegerType(), True)])"
   ]
  },
  {
   "cell_type": "markdown",
   "id": "2d00718f",
   "metadata": {
    "id": "gUxZnsqrmynW"
   },
   "source": [
    "### Read the data using the standard DataReader (Key,Value) pairs format\n",
    "- Provide the schema and any other required options."
   ]
  },
  {
   "cell_type": "code",
   "execution_count": 4,
   "id": "61fcc4cd",
   "metadata": {},
   "outputs": [],
   "source": [
    "df = spark.read.csv(\"healthcare-dataset-stroke-data.csv\", header=True, schema=recordSchema)"
   ]
  },
  {
   "cell_type": "markdown",
   "id": "974bc193",
   "metadata": {
    "id": "gUxZnsqrmynW"
   },
   "source": [
    "### Explore the data \n",
    "#### You have to do the following:\n",
    "- Print the Schema.\n",
    "- Show the first 10 rows from the data.\n",
    "- Explore null values and show how many null values in each column.\n",
    "- Plot a count plot for the target label and <b>notice the graph</b>.\n",
    "- Perform any additional EDA you find useful."
   ]
  },
  {
   "cell_type": "markdown",
   "id": "f4d34719",
   "metadata": {},
   "source": [
    "### <font color='blue'>print schema</font>"
   ]
  },
  {
   "cell_type": "code",
   "execution_count": 5,
   "id": "353b6f34",
   "metadata": {},
   "outputs": [
    {
     "name": "stdout",
     "output_type": "stream",
     "text": [
      "root\n",
      " |-- id: integer (nullable = true)\n",
      " |-- gender: string (nullable = true)\n",
      " |-- age: double (nullable = true)\n",
      " |-- hypertension: integer (nullable = true)\n",
      " |-- heart_disease: integer (nullable = true)\n",
      " |-- ever_married: string (nullable = true)\n",
      " |-- work_type: string (nullable = true)\n",
      " |-- Residence_type: string (nullable = true)\n",
      " |-- avg_glucose_level: double (nullable = true)\n",
      " |-- bmi: double (nullable = true)\n",
      " |-- smoking_status: string (nullable = true)\n",
      " |-- stroke: integer (nullable = true)\n",
      "\n"
     ]
    }
   ],
   "source": [
    "df.printSchema()"
   ]
  },
  {
   "cell_type": "markdown",
   "id": "6892a92e",
   "metadata": {},
   "source": [
    "### <font color='blue'>Show the first 10 rows from the data</font>"
   ]
  },
  {
   "cell_type": "code",
   "execution_count": 6,
   "id": "cfd3bedf",
   "metadata": {},
   "outputs": [
    {
     "name": "stdout",
     "output_type": "stream",
     "text": [
      "+-----+------+----+------------+-------------+------------+-------------+--------------+-----------------+----+---------------+------+\n",
      "|   id|gender| age|hypertension|heart_disease|ever_married|    work_type|Residence_type|avg_glucose_level| bmi| smoking_status|stroke|\n",
      "+-----+------+----+------------+-------------+------------+-------------+--------------+-----------------+----+---------------+------+\n",
      "| 9046|  Male|67.0|           0|            1|         Yes|      Private|         Urban|           228.69|36.6|formerly smoked|     1|\n",
      "|51676|Female|61.0|           0|            0|         Yes|Self-employed|         Rural|           202.21|null|   never smoked|     1|\n",
      "|31112|  Male|80.0|           0|            1|         Yes|      Private|         Rural|           105.92|32.5|   never smoked|     1|\n",
      "|60182|Female|49.0|           0|            0|         Yes|      Private|         Urban|           171.23|34.4|         smokes|     1|\n",
      "| 1665|Female|79.0|           1|            0|         Yes|Self-employed|         Rural|           174.12|24.0|   never smoked|     1|\n",
      "|56669|  Male|81.0|           0|            0|         Yes|      Private|         Urban|           186.21|29.0|formerly smoked|     1|\n",
      "|53882|  Male|74.0|           1|            1|         Yes|      Private|         Rural|            70.09|27.4|   never smoked|     1|\n",
      "|10434|Female|69.0|           0|            0|          No|      Private|         Urban|            94.39|22.8|   never smoked|     1|\n",
      "|27419|Female|59.0|           0|            0|         Yes|      Private|         Rural|            76.15|null|        Unknown|     1|\n",
      "|60491|Female|78.0|           0|            0|         Yes|      Private|         Urban|            58.57|24.2|        Unknown|     1|\n",
      "+-----+------+----+------------+-------------+------------+-------------+--------------+-----------------+----+---------------+------+\n",
      "only showing top 10 rows\n",
      "\n"
     ]
    },
    {
     "name": "stderr",
     "output_type": "stream",
     "text": [
      "\r",
      "[Stage 0:>                                                          (0 + 1) / 1]\r",
      "\r",
      "                                                                                \r"
     ]
    }
   ],
   "source": [
    "df.show(10)"
   ]
  },
  {
   "cell_type": "markdown",
   "id": "2a3ef982",
   "metadata": {},
   "source": [
    "### <font color='blue'>Explore null values and show how many null values in each column</font>"
   ]
  },
  {
   "cell_type": "code",
   "execution_count": 7,
   "id": "d73b06e5",
   "metadata": {},
   "outputs": [
    {
     "name": "stdout",
     "output_type": "stream",
     "text": [
      "No. of missing values in column id is: 0\n",
      "No. of missing values in column gender is: 0\n",
      "No. of missing values in column age is: 0\n",
      "No. of missing values in column hypertension is: 0\n",
      "No. of missing values in column heart_disease is: 0\n",
      "No. of missing values in column ever_married is: 0\n",
      "No. of missing values in column work_type is: 0\n",
      "No. of missing values in column Residence_type is: 0\n",
      "No. of missing values in column avg_glucose_level is: 0\n",
      "No. of missing values in column bmi is: 201\n",
      "No. of missing values in column smoking_status is: 0\n",
      "No. of missing values in column stroke is: 0\n"
     ]
    }
   ],
   "source": [
    "for c in df.columns:\n",
    "    print(\"No. of missing values in column {} is: {}\".format(c, df.select(fn.count(fn.when(fn.isnan(c) | fn.col(c).isNull(), c))).collect()[0][0]))"
   ]
  },
  {
   "cell_type": "code",
   "execution_count": 8,
   "id": "2d8dd441",
   "metadata": {},
   "outputs": [
    {
     "name": "stdout",
     "output_type": "stream",
     "text": [
      "Percentage of missing values in id is: 0.00 %\n",
      "Percentage of missing values in gender is: 0.00 %\n",
      "Percentage of missing values in age is: 0.00 %\n",
      "Percentage of missing values in hypertension is: 0.00 %\n",
      "Percentage of missing values in heart_disease is: 0.00 %\n",
      "Percentage of missing values in ever_married is: 0.00 %\n",
      "Percentage of missing values in work_type is: 0.00 %\n",
      "Percentage of missing values in Residence_type is: 0.00 %\n",
      "Percentage of missing values in avg_glucose_level is: 0.00 %\n",
      "Percentage of missing values in bmi is: 3.93 %\n",
      "Percentage of missing values in smoking_status is: 0.00 %\n",
      "Percentage of missing values in stroke is: 0.00 %\n"
     ]
    }
   ],
   "source": [
    "for c in df.columns:\n",
    "    print(\"Percentage of missing values in {} is: {:.2f} %\".format(c, df.select(fn.count(fn.when(fn.isnan(c) | fn.col(c).isNull(), c))).collect()[0][0] / df.count() * 100))"
   ]
  },
  {
   "cell_type": "markdown",
   "id": "a565482a",
   "metadata": {},
   "source": [
    "#### <font color='red'>OR</font>"
   ]
  },
  {
   "cell_type": "code",
   "execution_count": 9,
   "id": "013f719d",
   "metadata": {},
   "outputs": [
    {
     "name": "stdout",
     "output_type": "stream",
     "text": [
      "+---+------+---+------------+-------------+------------+---------+--------------+-----------------+---+--------------+------+\n",
      "| id|gender|age|hypertension|heart_disease|ever_married|work_type|Residence_type|avg_glucose_level|bmi|smoking_status|stroke|\n",
      "+---+------+---+------------+-------------+------------+---------+--------------+-----------------+---+--------------+------+\n",
      "|  0|     0|  0|           0|            0|           0|        0|             0|                0|201|             0|     0|\n",
      "+---+------+---+------------+-------------+------------+---------+--------------+-----------------+---+--------------+------+\n",
      "\n"
     ]
    }
   ],
   "source": [
    "df.select([fn.count(fn.when(fn.isnan(c) | fn.col(c).isNull(), c)).alias(c) for c in df.columns]).show()"
   ]
  },
  {
   "cell_type": "markdown",
   "id": "7ad0c0e3",
   "metadata": {},
   "source": [
    "#### <font color='red'>Comment: </font>bmi contains 201 missing values"
   ]
  },
  {
   "cell_type": "markdown",
   "id": "d27348a6",
   "metadata": {},
   "source": [
    "### <font color='blue'>Plot a count plot for the target label and notice the graph</font>"
   ]
  },
  {
   "cell_type": "code",
   "execution_count": 10,
   "id": "6fb198f0",
   "metadata": {},
   "outputs": [
    {
     "data": {
      "image/png": "[encoded data removed]",
      "text/plain": [
       "<Figure size 432x288 with 1 Axes>"
      ]
     },
     "metadata": {
      "needs_background": "light"
     },
     "output_type": "display_data"
    }
   ],
   "source": [
    "import seaborn as sns\n",
    "import matplotlib.pyplot as plt\n",
    "ax = sns.countplot(x=\"stroke\", data=df.toPandas())\n",
    "ax.set_title('Target Classes Counts')\n",
    "plt.show()"
   ]
  },
  {
   "cell_type": "markdown",
   "id": "60ba4027",
   "metadata": {},
   "source": [
    "#### <font color='red'>Comment: </font>There is imbalance between the target classes"
   ]
  },
  {
   "cell_type": "markdown",
   "id": "59b770cb",
   "metadata": {},
   "source": [
    "### Get the summary statistics of the age column\n",
    "- You will find the minimum age is about <b>0.08</b>.\n",
    "- Remove rows for the age below <b>2 years old</b>."
   ]
  },
  {
   "cell_type": "markdown",
   "id": "ff600f96",
   "metadata": {},
   "source": [
    "### <font color='blue'>Age summary</font>"
   ]
  },
  {
   "cell_type": "code",
   "execution_count": 11,
   "id": "a7257c30",
   "metadata": {},
   "outputs": [
    {
     "name": "stdout",
     "output_type": "stream",
     "text": [
      "+-------+------------------+\n",
      "|summary|               age|\n",
      "+-------+------------------+\n",
      "|  count|              5110|\n",
      "|   mean|43.226614481409015|\n",
      "| stddev| 22.61264672311348|\n",
      "|    min|              0.08|\n",
      "|    25%|              25.0|\n",
      "|    50%|              45.0|\n",
      "|    75%|              61.0|\n",
      "|    max|              82.0|\n",
      "+-------+------------------+\n",
      "\n"
     ]
    }
   ],
   "source": [
    "df.select('age').summary().show()"
   ]
  },
  {
   "cell_type": "markdown",
   "id": "c3e082ef",
   "metadata": {},
   "source": [
    "### <font color='blue'>Remove rows for the age below 2 years old</font>"
   ]
  },
  {
   "cell_type": "code",
   "execution_count": 12,
   "id": "cc99c0be",
   "metadata": {},
   "outputs": [
    {
     "name": "stdout",
     "output_type": "stream",
     "text": [
      "+---+------+---+------------+-------------+------------+---------+--------------+-----------------+---+--------------+------+\n",
      "| id|gender|age|hypertension|heart_disease|ever_married|work_type|Residence_type|avg_glucose_level|bmi|smoking_status|stroke|\n",
      "+---+------+---+------------+-------------+------------+---------+--------------+-----------------+---+--------------+------+\n",
      "+---+------+---+------------+-------------+------------+---------+--------------+-----------------+---+--------------+------+\n",
      "\n"
     ]
    }
   ],
   "source": [
    "df1 = df.filter(df.age >= 2)\n",
    "\n",
    "# Test\n",
    "df1.filter(df.age == 1).show(3)"
   ]
  },
  {
   "cell_type": "markdown",
   "id": "bf8c9498",
   "metadata": {},
   "source": [
    "### Working with gender & smoking_status columns:\n",
    "- Select and show the gender & smoking_status columns\n",
    "- Get the distinct values for each column."
   ]
  },
  {
   "cell_type": "markdown",
   "id": "fba24da9",
   "metadata": {},
   "source": [
    "### <font color='blue'>Select and show the gender & smoking_status columns</font>"
   ]
  },
  {
   "cell_type": "code",
   "execution_count": 13,
   "id": "96be75af",
   "metadata": {},
   "outputs": [
    {
     "name": "stdout",
     "output_type": "stream",
     "text": [
      "+------+---------------+\n",
      "|gender| smoking_status|\n",
      "+------+---------------+\n",
      "|  Male|formerly smoked|\n",
      "|Female|   never smoked|\n",
      "|  Male|   never smoked|\n",
      "|Female|         smokes|\n",
      "|Female|   never smoked|\n",
      "|  Male|formerly smoked|\n",
      "|  Male|   never smoked|\n",
      "|Female|   never smoked|\n",
      "|Female|        Unknown|\n",
      "|Female|        Unknown|\n",
      "|Female|   never smoked|\n",
      "|Female|         smokes|\n",
      "|Female|         smokes|\n",
      "|  Male|        Unknown|\n",
      "|Female|   never smoked|\n",
      "|Female|   never smoked|\n",
      "|  Male|         smokes|\n",
      "|  Male|         smokes|\n",
      "|Female|   never smoked|\n",
      "|  Male|        Unknown|\n",
      "+------+---------------+\n",
      "only showing top 20 rows\n",
      "\n"
     ]
    }
   ],
   "source": [
    "df1.select(['gender', 'smoking_status']).show()"
   ]
  },
  {
   "cell_type": "markdown",
   "id": "94997b91",
   "metadata": {},
   "source": [
    "### <font color='blue'>Get the distinct values for each column</font>"
   ]
  },
  {
   "cell_type": "code",
   "execution_count": 14,
   "id": "9e623fee",
   "metadata": {},
   "outputs": [
    {
     "name": "stdout",
     "output_type": "stream",
     "text": [
      "+------+\n",
      "|gender|\n",
      "+------+\n",
      "|Female|\n",
      "| Other|\n",
      "|  Male|\n",
      "+------+\n",
      "\n"
     ]
    }
   ],
   "source": [
    "df.select('gender').distinct().show()"
   ]
  },
  {
   "cell_type": "code",
   "execution_count": 15,
   "id": "5d0c1200",
   "metadata": {},
   "outputs": [
    {
     "name": "stdout",
     "output_type": "stream",
     "text": [
      "+---------------+\n",
      "| smoking_status|\n",
      "+---------------+\n",
      "|         smokes|\n",
      "|        Unknown|\n",
      "|   never smoked|\n",
      "|formerly smoked|\n",
      "+---------------+\n",
      "\n"
     ]
    }
   ],
   "source": [
    "df.select('smoking_status').distinct().show()"
   ]
  },
  {
   "cell_type": "markdown",
   "id": "850bdfe1",
   "metadata": {
    "id": "HQFPKukRLzbB"
   },
   "source": [
    "#### Change the string values of the columns into numerical values as follow:\n",
    "1. Gender column:\n",
    "    * Male = 1 \n",
    "    * Female = 0 \n",
    "    * Other = 0 \n",
    "2. Smoking Status column:\n",
    "  * never smoked = 0\n",
    "  * Unknown = 0.5\n",
    "  * formerly smoked = 0.75\n",
    "  * smokes = 1.0\n"
   ]
  },
  {
   "cell_type": "markdown",
   "id": "d4a8adbf",
   "metadata": {},
   "source": [
    "### <font color='blue'>Encoding gender column</font>"
   ]
  },
  {
   "cell_type": "code",
   "execution_count": 16,
   "id": "355f2ef0",
   "metadata": {},
   "outputs": [
    {
     "name": "stdout",
     "output_type": "stream",
     "text": [
      "+-----+------+----+------------+-------------+------------+-------------+--------------+-----------------+----+---------------+------+\n",
      "|   id|gender| age|hypertension|heart_disease|ever_married|    work_type|Residence_type|avg_glucose_level| bmi| smoking_status|stroke|\n",
      "+-----+------+----+------------+-------------+------------+-------------+--------------+-----------------+----+---------------+------+\n",
      "| 9046|     1|67.0|           0|            1|         Yes|      Private|         Urban|           228.69|36.6|formerly smoked|     1|\n",
      "|51676|     0|61.0|           0|            0|         Yes|Self-employed|         Rural|           202.21|null|   never smoked|     1|\n",
      "|31112|     1|80.0|           0|            1|         Yes|      Private|         Rural|           105.92|32.5|   never smoked|     1|\n",
      "+-----+------+----+------------+-------------+------------+-------------+--------------+-----------------+----+---------------+------+\n",
      "only showing top 3 rows\n",
      "\n"
     ]
    }
   ],
   "source": [
    "# Replace\n",
    "df2 = df1.replace(['Male', 'Female', 'Other'], ['1', '0', '0'], 'gender')\n",
    "\n",
    "# Cast to integer\n",
    "df2 = df2.withColumn(\"gender\",df2.gender.cast('integer'))\n",
    "df2.show(3)"
   ]
  },
  {
   "cell_type": "markdown",
   "id": "0779d9af",
   "metadata": {},
   "source": [
    "### <font color='blue'>Encoding smoking_status column</font>"
   ]
  },
  {
   "cell_type": "code",
   "execution_count": 17,
   "id": "1603ba44",
   "metadata": {},
   "outputs": [
    {
     "name": "stdout",
     "output_type": "stream",
     "text": [
      "+-----+------+----+------------+-------------+------------+-------------+--------------+-----------------+----+--------------+------+\n",
      "|   id|gender| age|hypertension|heart_disease|ever_married|    work_type|Residence_type|avg_glucose_level| bmi|smoking_status|stroke|\n",
      "+-----+------+----+------------+-------------+------------+-------------+--------------+-----------------+----+--------------+------+\n",
      "| 9046|     1|67.0|           0|            1|         Yes|      Private|         Urban|           228.69|36.6|          0.75|     1|\n",
      "|51676|     0|61.0|           0|            0|         Yes|Self-employed|         Rural|           202.21|null|           0.0|     1|\n",
      "|31112|     1|80.0|           0|            1|         Yes|      Private|         Rural|           105.92|32.5|           0.0|     1|\n",
      "+-----+------+----+------------+-------------+------------+-------------+--------------+-----------------+----+--------------+------+\n",
      "only showing top 3 rows\n",
      "\n"
     ]
    }
   ],
   "source": [
    "# Replace\n",
    "df3 = df2.replace(['never smoked', 'Unknown', 'formerly smoked', 'smokes'], ['0.', '0.5', '0.75', '1.'], 'smoking_status')\n",
    "\n",
    "# Cast to double\n",
    "df3 = df3.withColumn(\"smoking_status\",df3.smoking_status.cast('double'))\n",
    "df3.show(3)"
   ]
  },
  {
   "cell_type": "markdown",
   "id": "3da38a31",
   "metadata": {},
   "source": [
    "#### Show the output DataFrame\n",
    "- Select and show the gender & smoking_status columns after value changing.\n",
    "- Print schema for the new dataframe."
   ]
  },
  {
   "cell_type": "markdown",
   "id": "96482cc7",
   "metadata": {},
   "source": [
    "### <font color='blue'>Select and show the gender & smoking_status columns after value changing</font>"
   ]
  },
  {
   "cell_type": "code",
   "execution_count": 18,
   "id": "4bd3f471",
   "metadata": {},
   "outputs": [
    {
     "name": "stdout",
     "output_type": "stream",
     "text": [
      "+------+--------------+\n",
      "|gender|smoking_status|\n",
      "+------+--------------+\n",
      "|     1|          0.75|\n",
      "|     0|           0.0|\n",
      "|     1|           0.0|\n",
      "|     0|           1.0|\n",
      "|     0|           0.0|\n",
      "|     1|          0.75|\n",
      "|     1|           0.0|\n",
      "|     0|           0.0|\n",
      "|     0|           0.5|\n",
      "|     0|           0.5|\n",
      "|     0|           0.0|\n",
      "|     0|           1.0|\n",
      "|     0|           1.0|\n",
      "|     1|           0.5|\n",
      "|     0|           0.0|\n",
      "|     0|           0.0|\n",
      "|     1|           1.0|\n",
      "|     1|           1.0|\n",
      "|     0|           0.0|\n",
      "|     1|           0.5|\n",
      "+------+--------------+\n",
      "only showing top 20 rows\n",
      "\n"
     ]
    }
   ],
   "source": [
    "df3.select(['gender', 'smoking_status']).show()"
   ]
  },
  {
   "cell_type": "markdown",
   "id": "fc9d36a7",
   "metadata": {},
   "source": [
    "### <font color='blue'>Print schema for the new dataframe</font>"
   ]
  },
  {
   "cell_type": "code",
   "execution_count": 19,
   "id": "89382b29",
   "metadata": {},
   "outputs": [
    {
     "name": "stdout",
     "output_type": "stream",
     "text": [
      "root\n",
      " |-- id: integer (nullable = true)\n",
      " |-- gender: integer (nullable = true)\n",
      " |-- age: double (nullable = true)\n",
      " |-- hypertension: integer (nullable = true)\n",
      " |-- heart_disease: integer (nullable = true)\n",
      " |-- ever_married: string (nullable = true)\n",
      " |-- work_type: string (nullable = true)\n",
      " |-- Residence_type: string (nullable = true)\n",
      " |-- avg_glucose_level: double (nullable = true)\n",
      " |-- bmi: double (nullable = true)\n",
      " |-- smoking_status: double (nullable = true)\n",
      " |-- stroke: integer (nullable = true)\n",
      "\n"
     ]
    }
   ],
   "source": [
    "df3.printSchema()"
   ]
  },
  {
   "cell_type": "markdown",
   "id": "89ce3b77",
   "metadata": {},
   "source": [
    "### Deal with null value according to your data analysis."
   ]
  },
  {
   "cell_type": "markdown",
   "id": "4f398b0b",
   "metadata": {},
   "source": [
    "Since, only `bmi` column contains null values with about 3% of its whole size, which is a small ratio, then we can drop the rows containing null values."
   ]
  },
  {
   "cell_type": "code",
   "execution_count": 20,
   "id": "4d78cb87",
   "metadata": {},
   "outputs": [],
   "source": [
    "df4 = df3.dropna(how='any', thresh=None, subset=None)"
   ]
  },
  {
   "cell_type": "code",
   "execution_count": 21,
   "id": "24b3b573",
   "metadata": {},
   "outputs": [
    {
     "name": "stdout",
     "output_type": "stream",
     "text": [
      "+---+------+---+------------+-------------+------------+---------+--------------+-----------------+---+--------------+------+\n",
      "| id|gender|age|hypertension|heart_disease|ever_married|work_type|Residence_type|avg_glucose_level|bmi|smoking_status|stroke|\n",
      "+---+------+---+------------+-------------+------------+---------+--------------+-----------------+---+--------------+------+\n",
      "|  0|     0|  0|           0|            0|           0|        0|             0|                0|  0|             0|     0|\n",
      "+---+------+---+------------+-------------+------------+---------+--------------+-----------------+---+--------------+------+\n",
      "\n"
     ]
    }
   ],
   "source": [
    "# Test\n",
    "df4.select([fn.count(fn.when(fn.isnan(c) | fn.col(c).isNull(), c)).alias(c) for c in df4.columns]).show()"
   ]
  },
  {
   "cell_type": "markdown",
   "id": "053c429a",
   "metadata": {},
   "source": [
    "### Split the data into training and test dataframes:\n",
    "- 80% training and 20% test.\n",
    "- seed = 42.\n",
    "- Save each dataframe as a parquet file"
   ]
  },
  {
   "cell_type": "code",
   "execution_count": 22,
   "id": "0236ea8b",
   "metadata": {},
   "outputs": [],
   "source": [
    "train, test = df4.randomSplit([.8,.2],seed=42)"
   ]
  },
  {
   "cell_type": "code",
   "execution_count": 23,
   "id": "4e53a4d4",
   "metadata": {},
   "outputs": [
    {
     "name": "stderr",
     "output_type": "stream",
     "text": [
      "                                                                                \r"
     ]
    }
   ],
   "source": [
    "train.write.parquet(\"Data/train.parquet\")\n",
    "test.write.parquet(\"Data/test.parquet\")"
   ]
  },
  {
   "cell_type": "markdown",
   "id": "78fa24da",
   "metadata": {},
   "source": [
    "### Read the saved Train and Test DataFrame:\n",
    "- Use the dataframes you read in the subsequent steps."
   ]
  },
  {
   "cell_type": "code",
   "execution_count": 24,
   "id": "c3f5c1e3",
   "metadata": {},
   "outputs": [],
   "source": [
    "train_df = spark.read.parquet(\"Data/train.parquet\")\n",
    "test_df = spark.read.parquet(\"Data/test.parquet\")"
   ]
  },
  {
   "cell_type": "code",
   "execution_count": 25,
   "id": "294078a5",
   "metadata": {},
   "outputs": [
    {
     "name": "stdout",
     "output_type": "stream",
     "text": [
      "root\n",
      " |-- id: integer (nullable = true)\n",
      " |-- gender: integer (nullable = true)\n",
      " |-- age: double (nullable = true)\n",
      " |-- hypertension: integer (nullable = true)\n",
      " |-- heart_disease: integer (nullable = true)\n",
      " |-- ever_married: string (nullable = true)\n",
      " |-- work_type: string (nullable = true)\n",
      " |-- Residence_type: string (nullable = true)\n",
      " |-- avg_glucose_level: double (nullable = true)\n",
      " |-- bmi: double (nullable = true)\n",
      " |-- smoking_status: double (nullable = true)\n",
      " |-- stroke: integer (nullable = true)\n",
      "\n",
      "+---+------+----+------------+-------------+------------+-------------+--------------+-----------------+----+--------------+------+\n",
      "| id|gender| age|hypertension|heart_disease|ever_married|    work_type|Residence_type|avg_glucose_level| bmi|smoking_status|stroke|\n",
      "+---+------+----+------------+-------------+------------+-------------+--------------+-----------------+----+--------------+------+\n",
      "| 77|     0|13.0|           0|            0|          No|     children|         Rural|            85.81|18.6|           0.5|     0|\n",
      "| 84|     1|55.0|           0|            0|         Yes|      Private|         Urban|            89.17|31.5|           0.0|     0|\n",
      "| 99|     0|31.0|           0|            0|          No|      Private|         Urban|           108.89|52.3|           0.5|     0|\n",
      "|129|     0|24.0|           0|            0|          No|      Private|         Urban|            97.55|26.2|           0.0|     0|\n",
      "|156|     0|33.0|           0|            0|         Yes|      Private|         Rural|            86.97|42.2|           0.0|     0|\n",
      "|187|     0|20.0|           0|            0|          No|      Private|         Rural|            84.07|27.6|           1.0|     0|\n",
      "|210|     1|81.0|           0|            0|         Yes|Self-employed|         Rural|            91.54|31.4|           0.0|     1|\n",
      "|239|     1|59.0|           1|            1|         Yes|      Private|         Rural|           246.53|27.2|          0.75|     0|\n",
      "|242|     1| 4.0|           0|            0|          No|     children|         Urban|            98.56|17.5|           0.5|     0|\n",
      "|247|     1|31.0|           0|            0|          No|      Private|         Urban|             72.6|31.6|           0.0|     0|\n",
      "|315|     1|45.0|           0|            0|         Yes|      Private|         Rural|            65.42|39.7|           0.0|     0|\n",
      "|321|     0|79.0|           0|            0|          No|Self-employed|         Rural|            71.98|36.4|           0.0|     0|\n",
      "|338|     0|43.0|           0|            0|         Yes|      Private|         Rural|           110.32|28.4|           0.0|     0|\n",
      "|354|     0|65.0|           0|            0|         Yes|      Private|         Urban|            72.49|28.9|           1.0|     0|\n",
      "|355|     1| 8.0|           0|            0|          No|     children|         Rural|            96.43|25.7|           0.5|     0|\n",
      "|365|     0|44.0|           1|            0|         Yes|      Private|         Rural|            69.48|41.3|           0.0|     0|\n",
      "|394|     1|78.0|           1|            0|         Yes|Self-employed|         Rural|            75.19|27.6|           0.0|     0|\n",
      "|452|     1|48.0|           1|            0|         Yes|      Private|         Urban|           173.14|37.0|           1.0|     0|\n",
      "|464|     1|46.0|           0|            0|         Yes|      Private|         Rural|            78.44|23.9|           0.0|     0|\n",
      "|479|     0|59.0|           1|            0|         Yes|      Private|         Rural|            78.28|31.0|          0.75|     0|\n",
      "+---+------+----+------------+-------------+------------+-------------+--------------+-----------------+----+--------------+------+\n",
      "only showing top 20 rows\n",
      "\n"
     ]
    }
   ],
   "source": [
    "train_df.printSchema()\n",
    "train_df.show()"
   ]
  },
  {
   "cell_type": "code",
   "execution_count": 26,
   "id": "eef56469",
   "metadata": {},
   "outputs": [
    {
     "name": "stdout",
     "output_type": "stream",
     "text": [
      "root\n",
      " |-- id: integer (nullable = true)\n",
      " |-- gender: integer (nullable = true)\n",
      " |-- age: double (nullable = true)\n",
      " |-- hypertension: integer (nullable = true)\n",
      " |-- heart_disease: integer (nullable = true)\n",
      " |-- ever_married: string (nullable = true)\n",
      " |-- work_type: string (nullable = true)\n",
      " |-- Residence_type: string (nullable = true)\n",
      " |-- avg_glucose_level: double (nullable = true)\n",
      " |-- bmi: double (nullable = true)\n",
      " |-- smoking_status: double (nullable = true)\n",
      " |-- stroke: integer (nullable = true)\n",
      "\n",
      "+----+------+----+------------+-------------+------------+-------------+--------------+-----------------+----+--------------+------+\n",
      "|  id|gender| age|hypertension|heart_disease|ever_married|    work_type|Residence_type|avg_glucose_level| bmi|smoking_status|stroke|\n",
      "+----+------+----+------------+-------------+------------+-------------+--------------+-----------------+----+--------------+------+\n",
      "|  91|     0|42.0|           0|            0|          No|      Private|         Urban|            98.53|18.5|           0.0|     0|\n",
      "| 163|     0|20.0|           0|            0|          No|      Private|         Rural|            94.67|28.8|           0.5|     0|\n",
      "| 205|     0|43.0|           0|            0|         Yes|      Private|         Rural|            88.23|37.6|           0.5|     0|\n",
      "| 259|     1|79.0|           0|            0|         Yes|      Private|         Urban|           198.79|24.9|           0.0|     0|\n",
      "| 364|     0|58.0|           0|            0|         Yes|      Private|         Urban|           105.74|26.8|          0.75|     0|\n",
      "| 458|     0|37.0|           0|            0|         Yes|     Govt_job|         Urban|            72.09|24.1|           1.0|     0|\n",
      "| 533|     0| 3.0|           0|            0|          No|     children|         Rural|            94.12|21.4|           0.5|     0|\n",
      "| 587|     0|14.0|           0|            0|          No|     children|         Rural|            92.22|22.8|           0.5|     0|\n",
      "| 742|     0|39.0|           0|            0|          No|     Govt_job|         Rural|            87.33|34.3|           0.0|     0|\n",
      "| 751|     0| 5.0|           0|            0|          No|     children|         Rural|             75.1|20.7|           0.5|     0|\n",
      "| 768|     0|74.0|           0|            0|         Yes|Self-employed|         Urban|            68.18|27.3|          0.75|     0|\n",
      "| 808|     0|16.0|           0|            0|          No|      Private|         Rural|            87.54|37.8|           0.0|     0|\n",
      "| 841|     1|34.0|           0|            0|         Yes|      Private|         Urban|            83.75|37.0|           0.0|     0|\n",
      "| 897|     1| 3.0|           0|            0|          No|     children|         Rural|            65.85|17.0|           0.5|     0|\n",
      "|1112|     0|14.0|           0|            0|          No|      Private|         Urban|            83.42|28.7|           0.0|     0|\n",
      "|1210|     0|68.0|           0|            0|         Yes|      Private|         Rural|           211.06|39.3|           0.5|     1|\n",
      "|1323|     0|45.0|           0|            0|         Yes|      Private|         Rural|            87.47|21.5|           0.0|     0|\n",
      "|1825|     1|33.0|           0|            0|         Yes|Self-employed|         Urban|            90.68|31.7|           1.0|     0|\n",
      "|2267|     0|31.0|           0|            0|         Yes|Self-employed|         Urban|            82.31|31.9|           0.0|     0|\n",
      "|2326|     0|67.0|           1|            0|         Yes|      Private|         Rural|           179.12|28.1|          0.75|     1|\n",
      "+----+------+----+------------+-------------+------------+-------------+--------------+-----------------+----+--------------+------+\n",
      "only showing top 20 rows\n",
      "\n"
     ]
    }
   ],
   "source": [
    "test_df.printSchema()\n",
    "test_df.show()"
   ]
  },
  {
   "cell_type": "markdown",
   "id": "987b4b40",
   "metadata": {},
   "source": [
    "### Create the model:\n",
    "- Perform feature engineering steps.\n",
    "- Create the logistic regression classifier.\n",
    "- Build the pipeline model that uses all feature engineering steps and the model.\n",
    "- Train the pipeline model using the trainig dataset."
   ]
  },
  {
   "cell_type": "code",
   "execution_count": 27,
   "id": "4e41b352",
   "metadata": {},
   "outputs": [],
   "source": [
    "# Building the pipeline\n",
    "from pyspark.ml import Pipeline\n",
    "from pyspark.ml.feature import VectorAssembler\n",
    "from pyspark.ml.feature import StringIndexer, OneHotEncoder"
   ]
  },
  {
   "cell_type": "markdown",
   "id": "3575178a",
   "metadata": {},
   "source": [
    "### <font color='blue'>Data engineering steps</font>"
   ]
  },
  {
   "cell_type": "code",
   "execution_count": 28,
   "id": "3278e362",
   "metadata": {},
   "outputs": [
    {
     "name": "stdout",
     "output_type": "stream",
     "text": [
      "+------------+\n",
      "|ever_married|\n",
      "+------------+\n",
      "|          No|\n",
      "|         Yes|\n",
      "+------------+\n",
      "\n",
      "+---+------+----+------------+-------------+------------+---------+--------------+-----------------+----+--------------+------+\n",
      "| id|gender| age|hypertension|heart_disease|ever_married|work_type|Residence_type|avg_glucose_level| bmi|smoking_status|stroke|\n",
      "+---+------+----+------------+-------------+------------+---------+--------------+-----------------+----+--------------+------+\n",
      "| 77|     0|13.0|           0|            0|           0| children|         Rural|            85.81|18.6|           0.5|     0|\n",
      "| 84|     1|55.0|           0|            0|           1|  Private|         Urban|            89.17|31.5|           0.0|     0|\n",
      "| 99|     0|31.0|           0|            0|           0|  Private|         Urban|           108.89|52.3|           0.5|     0|\n",
      "+---+------+----+------------+-------------+------------+---------+--------------+-----------------+----+--------------+------+\n",
      "only showing top 3 rows\n",
      "\n",
      "+------------+\n",
      "|ever_married|\n",
      "+------------+\n",
      "|          No|\n",
      "|         Yes|\n",
      "+------------+\n",
      "\n",
      "+---+------+----+------------+-------------+------------+---------+--------------+-----------------+----+--------------+------+\n",
      "| id|gender| age|hypertension|heart_disease|ever_married|work_type|Residence_type|avg_glucose_level| bmi|smoking_status|stroke|\n",
      "+---+------+----+------------+-------------+------------+---------+--------------+-----------------+----+--------------+------+\n",
      "| 91|     0|42.0|           0|            0|           0|  Private|         Urban|            98.53|18.5|           0.0|     0|\n",
      "|163|     0|20.0|           0|            0|           0|  Private|         Rural|            94.67|28.8|           0.5|     0|\n",
      "|205|     0|43.0|           0|            0|           1|  Private|         Rural|            88.23|37.6|           0.5|     0|\n",
      "+---+------+----+------------+-------------+------------+---------+--------------+-----------------+----+--------------+------+\n",
      "only showing top 3 rows\n",
      "\n"
     ]
    }
   ],
   "source": [
    "# Encoding 'ever_married'\n",
    "train_df.select('ever_married').distinct().show()\n",
    "train_df = train_df.replace(['Yes', 'No'], ['1', '0'], 'ever_married')\n",
    "train_df = train_df.withColumn(\"ever_married\", train_df.ever_married.cast('integer'))\n",
    "train_df.show(3)\n",
    "\n",
    "test_df.select('ever_married').distinct().show()\n",
    "test_df = test_df.replace(['Yes', 'No'], ['1', '0'], 'ever_married')\n",
    "test_df = test_df.withColumn(\"ever_married\", test_df.ever_married.cast('integer'))\n",
    "test_df.show(3)"
   ]
  },
  {
   "cell_type": "code",
   "execution_count": 29,
   "id": "106453d7",
   "metadata": {},
   "outputs": [],
   "source": [
    "# Encoding categorical data\n",
    "categorical_data = ['work_type', 'Residence_type']\n",
    "oheOutputCols = [x + \"_OHE\" for x in categorical_data]\n",
    "indexOutputCols = [x + \"_Index\" for x in categorical_data]\n",
    "\n",
    "stringIndexer = StringIndexer(inputCols=categorical_data,\n",
    "                              outputCols=indexOutputCols,\n",
    "                              handleInvalid='skip')\n",
    "\n",
    "oheEncoder = OneHotEncoder(inputCols = indexOutputCols, \n",
    "                           outputCols = oheOutputCols)   "
   ]
  },
  {
   "cell_type": "code",
   "execution_count": 30,
   "id": "ed02e83d",
   "metadata": {},
   "outputs": [
    {
     "data": {
      "text/plain": [
       "['bmi',\n",
       " 'hypertension',\n",
       " 'gender',\n",
       " 'smoking_status',\n",
       " 'avg_glucose_level',\n",
       " 'Residence_type_OHE',\n",
       " 'age',\n",
       " 'ever_married',\n",
       " 'work_type_OHE',\n",
       " 'heart_disease']"
      ]
     },
     "execution_count": 30,
     "metadata": {},
     "output_type": "execute_result"
    }
   ],
   "source": [
    "# Excluding id and stroke (target) from the input features\n",
    "input_cols = list(set(df4.columns + oheOutputCols) - set(['id', 'stroke'] + categorical_data))\n",
    "vecAssembler = VectorAssembler(inputCols=input_cols, outputCol='features')\n",
    "input_cols"
   ]
  },
  {
   "cell_type": "markdown",
   "id": "d5e78d1c",
   "metadata": {},
   "source": [
    "### <font color='blue'>Logistic regression classifier</font>"
   ]
  },
  {
   "cell_type": "code",
   "execution_count": 31,
   "id": "480462ab",
   "metadata": {},
   "outputs": [],
   "source": [
    "from pyspark.ml.classification import LogisticRegression\n",
    "\n",
    "model = LogisticRegression(featuresCol='features',\n",
    "                           labelCol='stroke',\n",
    "                           predictionCol='prediction')"
   ]
  },
  {
   "cell_type": "markdown",
   "id": "e06a80ed",
   "metadata": {},
   "source": [
    "### <font color='blue'>Train the pipeline model using the trainig dataset</font>"
   ]
  },
  {
   "cell_type": "code",
   "execution_count": 32,
   "id": "8492365b",
   "metadata": {},
   "outputs": [],
   "source": [
    "pipeline = Pipeline(stages=[stringIndexer, oheEncoder, vecAssembler, model]).fit(train_df)"
   ]
  },
  {
   "cell_type": "markdown",
   "id": "a05c2677",
   "metadata": {},
   "source": [
    "### Perform predictions on tests dataframe:\n",
    "- Test the model using the test dataframe\n",
    "- Select and show the feature column.\n",
    "- Print the schema of the output dataframe.\n",
    "- Select and show both prediction and label columns.\n",
    "- Explore the results for the label column stroke=1. i.e. select both columns (prediction,stroke) for stroke=1.<b>notice the result.</b> \n",
    "- Count the predicted 1 and 0 values.<b>notice the result.</b>   "
   ]
  },
  {
   "cell_type": "markdown",
   "id": "f315a5fd",
   "metadata": {},
   "source": [
    "### <font color='blue'>Test the model</font>"
   ]
  },
  {
   "cell_type": "code",
   "execution_count": 33,
   "id": "419937cd",
   "metadata": {},
   "outputs": [],
   "source": [
    "pred = pipeline.transform(test_df)"
   ]
  },
  {
   "cell_type": "markdown",
   "id": "773295b1",
   "metadata": {},
   "source": [
    "### <font color='blue'>Select and show the feature column</font>"
   ]
  },
  {
   "cell_type": "code",
   "execution_count": 34,
   "id": "5a3a86c2",
   "metadata": {},
   "outputs": [
    {
     "name": "stdout",
     "output_type": "stream",
     "text": [
      "+--------------------+\n",
      "|            features|\n",
      "+--------------------+\n",
      "|(13,[0,4,5,6,8],[...|\n",
      "|(13,[0,3,4,6,8],[...|\n",
      "|(13,[0,3,4,6,7,8]...|\n",
      "|(13,[0,2,4,5,6,7,...|\n",
      "|(13,[0,3,4,5,6,7,...|\n",
      "|(13,[0,3,4,5,6,7,...|\n",
      "|(13,[0,3,4,6,11],...|\n",
      "|(13,[0,3,4,6,11],...|\n",
      "|(13,[0,4,6,10],[3...|\n",
      "|(13,[0,3,4,6,11],...|\n",
      "|(13,[0,3,4,5,6,7,...|\n",
      "|(13,[0,4,6,8],[37...|\n",
      "|(13,[0,2,4,5,6,7,...|\n",
      "|(13,[0,2,3,4,6,11...|\n",
      "|(13,[0,4,5,6,8],[...|\n",
      "|(13,[0,3,4,6,7,8]...|\n",
      "|(13,[0,4,6,7,8],[...|\n",
      "|[31.7,0.0,1.0,1.0...|\n",
      "|(13,[0,4,5,6,7,9]...|\n",
      "|(13,[0,1,3,4,6,7,...|\n",
      "+--------------------+\n",
      "only showing top 20 rows\n",
      "\n"
     ]
    }
   ],
   "source": [
    "pred.select('features').show()"
   ]
  },
  {
   "cell_type": "markdown",
   "id": "316a0b62",
   "metadata": {},
   "source": [
    "### <font color='blue'>Print the schema of the output dataframe</font>"
   ]
  },
  {
   "cell_type": "code",
   "execution_count": 35,
   "id": "480d892e",
   "metadata": {
    "scrolled": false
   },
   "outputs": [
    {
     "name": "stdout",
     "output_type": "stream",
     "text": [
      "root\n",
      " |-- id: integer (nullable = true)\n",
      " |-- gender: integer (nullable = true)\n",
      " |-- age: double (nullable = true)\n",
      " |-- hypertension: integer (nullable = true)\n",
      " |-- heart_disease: integer (nullable = true)\n",
      " |-- ever_married: integer (nullable = true)\n",
      " |-- work_type: string (nullable = true)\n",
      " |-- Residence_type: string (nullable = true)\n",
      " |-- avg_glucose_level: double (nullable = true)\n",
      " |-- bmi: double (nullable = true)\n",
      " |-- smoking_status: double (nullable = true)\n",
      " |-- stroke: integer (nullable = true)\n",
      " |-- work_type_Index: double (nullable = false)\n",
      " |-- Residence_type_Index: double (nullable = false)\n",
      " |-- work_type_OHE: vector (nullable = true)\n",
      " |-- Residence_type_OHE: vector (nullable = true)\n",
      " |-- features: vector (nullable = true)\n",
      " |-- rawPrediction: vector (nullable = true)\n",
      " |-- probability: vector (nullable = true)\n",
      " |-- prediction: double (nullable = false)\n",
      "\n"
     ]
    }
   ],
   "source": [
    "pred.printSchema()"
   ]
  },
  {
   "cell_type": "markdown",
   "id": "48d06c2e",
   "metadata": {},
   "source": [
    "### <font color='blue'>Select and show both prediction and label columns</font>"
   ]
  },
  {
   "cell_type": "code",
   "execution_count": 36,
   "id": "b42ba40a",
   "metadata": {},
   "outputs": [
    {
     "name": "stdout",
     "output_type": "stream",
     "text": [
      "+----------+------+\n",
      "|prediction|stroke|\n",
      "+----------+------+\n",
      "|       0.0|     1|\n",
      "|       0.0|     1|\n",
      "|       0.0|     1|\n",
      "|       0.0|     1|\n",
      "|       0.0|     1|\n",
      "|       0.0|     1|\n",
      "|       0.0|     1|\n",
      "|       0.0|     1|\n",
      "|       0.0|     1|\n",
      "|       0.0|     1|\n",
      "|       0.0|     1|\n",
      "|       0.0|     1|\n",
      "|       0.0|     1|\n",
      "|       0.0|     1|\n",
      "|       0.0|     1|\n",
      "|       0.0|     1|\n",
      "|       0.0|     1|\n",
      "|       0.0|     1|\n",
      "|       0.0|     1|\n",
      "|       0.0|     1|\n",
      "+----------+------+\n",
      "only showing top 20 rows\n",
      "\n"
     ]
    }
   ],
   "source": [
    "pred.select(['prediction', 'stroke']).filter(fn.col('stroke') == 1).show()"
   ]
  },
  {
   "cell_type": "markdown",
   "id": "6ce1320a",
   "metadata": {},
   "source": [
    "### <font color='blue'>Count the predicted 1 and 0 values.notice the result</font>"
   ]
  },
  {
   "cell_type": "code",
   "execution_count": 37,
   "id": "615bcd99",
   "metadata": {
    "scrolled": true
   },
   "outputs": [
    {
     "name": "stdout",
     "output_type": "stream",
     "text": [
      "+----------+-----+\n",
      "|prediction|count|\n",
      "+----------+-----+\n",
      "|       0.0|  918|\n",
      "+----------+-----+\n",
      "\n"
     ]
    }
   ],
   "source": [
    "pred.groupBy('prediction').count().show()"
   ]
  },
  {
   "cell_type": "markdown",
   "id": "7c264441",
   "metadata": {},
   "source": [
    "#### <font color='red'>Comment: </font>The model only predicts 0.0"
   ]
  },
  {
   "cell_type": "markdown",
   "id": "daec120f",
   "metadata": {},
   "source": [
    "### Evaluate the model performance\n",
    "- Use <b>BinaryClassificationEvaluator</b>. This will calculate the <b>ROC</b>.\n",
    "- Set the parameters as follow:\n",
    "    - <b>rawPredictionCol='prediction'</b> and <b>labelCol='stroke'</b>"
   ]
  },
  {
   "cell_type": "code",
   "execution_count": 38,
   "id": "a7b5ad25",
   "metadata": {},
   "outputs": [],
   "source": [
    "from pyspark.ml.evaluation import BinaryClassificationEvaluator"
   ]
  },
  {
   "cell_type": "code",
   "execution_count": 39,
   "id": "44d3a1e6",
   "metadata": {},
   "outputs": [],
   "source": [
    "evaluatorROC = BinaryClassificationEvaluator(rawPredictionCol='prediction', labelCol='stroke')"
   ]
  },
  {
   "cell_type": "code",
   "execution_count": 40,
   "id": "3adbe41f",
   "metadata": {},
   "outputs": [
    {
     "data": {
      "text/plain": [
       "0.5"
      ]
     },
     "execution_count": 40,
     "metadata": {},
     "output_type": "execute_result"
    }
   ],
   "source": [
    "evaluatorROC.evaluate(pred)"
   ]
  },
  {
   "cell_type": "markdown",
   "id": "b379f0e5",
   "metadata": {},
   "source": [
    "#### <font color='red'>Comment: </font> 0.5 ROC value indicates a random model"
   ]
  },
  {
   "cell_type": "markdown",
   "id": "40206589",
   "metadata": {},
   "source": [
    "## Improve Model Performance\n",
    "- You may noticed that <b>the target label is imbalanced</b>.\n",
    "- LogisticRegression classifier has a special parameter <b>weightCol</b> to deal with imbalanced class.\n",
    "- In order to use this parameter you must have a <b>weightCol</b> in your training dataframe.\n",
    "- In order to create this column you will need to define a <b>UDF</b> and apply it to the target label column.\n",
    "- Create a LogisticRegression classifier with <b>weightCol</b> parameter.\n",
    "- Build and train a pipeline model with the new LogisticRegression.\n",
    "- Perform the prediction on the test dataframe. \n",
    "- Select and show both prediction and label columns.\n",
    "- Explore the results for the label column stroke=1. i.e. select both columns (prediction,stroke) for stroke=1.<b>notice the result.</b> \n",
    "- Count the predicted 1 and 0 values.<b>notice the result.</b>   \n",
    "- Evaluate the model performance exactly as in the previous step.\n",
    "#### WE NEED TO OBTAIN  ROC > 0.65\n",
    "<BR>"
   ]
  },
  {
   "cell_type": "markdown",
   "id": "0ba980ed",
   "metadata": {},
   "source": [
    "### <font color='blue'>UDF</font>"
   ]
  },
  {
   "cell_type": "code",
   "execution_count": 41,
   "id": "7df316c3",
   "metadata": {},
   "outputs": [],
   "source": [
    "stroke_weight = pred.filter(pred['stroke'] == 1).count() / pred.count()\n",
    "non_stroke_weight = 1 - stroke_weight"
   ]
  },
  {
   "cell_type": "code",
   "execution_count": 42,
   "id": "e724d46c",
   "metadata": {},
   "outputs": [],
   "source": [
    "def give_weight(val):\n",
    "    \n",
    "    # Give stroke weight for non-stroke class to compensate the imbalance\n",
    "    if val == 0:\n",
    "        return stroke_weight\n",
    "    \n",
    "    # Give non-stroke weight for stroke class to compensate the imbalance\n",
    "    else:\n",
    "        return non_stroke_weight"
   ]
  },
  {
   "cell_type": "code",
   "execution_count": 43,
   "id": "ae3c6fbb",
   "metadata": {},
   "outputs": [],
   "source": [
    "weightUDF = fn.udf(give_weight, DoubleType())"
   ]
  },
  {
   "cell_type": "markdown",
   "id": "9cf41607",
   "metadata": {},
   "source": [
    "### <font color='blue'>Adding `weightCol`</font>"
   ]
  },
  {
   "cell_type": "code",
   "execution_count": 44,
   "id": "d7b274d7",
   "metadata": {},
   "outputs": [],
   "source": [
    "train_with_weights = train_df.withColumn('weightCol', weightUDF('stroke'))"
   ]
  },
  {
   "cell_type": "code",
   "execution_count": 45,
   "id": "898c7cee",
   "metadata": {},
   "outputs": [
    {
     "name": "stdout",
     "output_type": "stream",
     "text": [
      "root\n",
      " |-- id: integer (nullable = true)\n",
      " |-- gender: integer (nullable = true)\n",
      " |-- age: double (nullable = true)\n",
      " |-- hypertension: integer (nullable = true)\n",
      " |-- heart_disease: integer (nullable = true)\n",
      " |-- ever_married: integer (nullable = true)\n",
      " |-- work_type: string (nullable = true)\n",
      " |-- Residence_type: string (nullable = true)\n",
      " |-- avg_glucose_level: double (nullable = true)\n",
      " |-- bmi: double (nullable = true)\n",
      " |-- smoking_status: double (nullable = true)\n",
      " |-- stroke: integer (nullable = true)\n",
      " |-- weightCol: double (nullable = true)\n",
      "\n"
     ]
    }
   ],
   "source": [
    "train_with_weights.printSchema()"
   ]
  },
  {
   "cell_type": "code",
   "execution_count": 46,
   "id": "f41915f3",
   "metadata": {},
   "outputs": [
    {
     "name": "stdout",
     "output_type": "stream",
     "text": [
      "+------+-------------------+\n",
      "|stroke|          weightCol|\n",
      "+------+-------------------+\n",
      "|     0|0.04030501089324619|\n",
      "|     0|0.04030501089324619|\n",
      "|     0|0.04030501089324619|\n",
      "|     0|0.04030501089324619|\n",
      "|     0|0.04030501089324619|\n",
      "|     0|0.04030501089324619|\n",
      "|     1| 0.9596949891067538|\n",
      "|     0|0.04030501089324619|\n",
      "|     0|0.04030501089324619|\n",
      "|     0|0.04030501089324619|\n",
      "|     0|0.04030501089324619|\n",
      "|     0|0.04030501089324619|\n",
      "|     0|0.04030501089324619|\n",
      "|     0|0.04030501089324619|\n",
      "|     0|0.04030501089324619|\n",
      "|     0|0.04030501089324619|\n",
      "|     0|0.04030501089324619|\n",
      "|     0|0.04030501089324619|\n",
      "|     0|0.04030501089324619|\n",
      "|     0|0.04030501089324619|\n",
      "+------+-------------------+\n",
      "only showing top 20 rows\n",
      "\n"
     ]
    },
    {
     "name": "stderr",
     "output_type": "stream",
     "text": [
      "\r",
      "[Stage 235:>                                                        (0 + 1) / 1]\r",
      "\r",
      "                                                                                \r"
     ]
    }
   ],
   "source": [
    "train_with_weights.select(['stroke', 'weightCol']).show()"
   ]
  },
  {
   "cell_type": "markdown",
   "id": "2dd3a732",
   "metadata": {},
   "source": [
    "### <font color='blue'>Training the model using weight column</font>"
   ]
  },
  {
   "cell_type": "code",
   "execution_count": 47,
   "id": "00e034e9",
   "metadata": {},
   "outputs": [],
   "source": [
    "model = LogisticRegression(featuresCol='features',\n",
    "                           labelCol='stroke',\n",
    "                           predictionCol='prediction',\n",
    "                           weightCol='weightCol')"
   ]
  },
  {
   "cell_type": "code",
   "execution_count": 48,
   "id": "66efa0c6",
   "metadata": {},
   "outputs": [],
   "source": [
    "pipeline = Pipeline(stages=[stringIndexer, oheEncoder, vecAssembler, model]).fit(train_with_weights)"
   ]
  },
  {
   "cell_type": "code",
   "execution_count": 49,
   "id": "b8d596e0",
   "metadata": {},
   "outputs": [],
   "source": [
    "pred_W = pipeline.transform(test_df)"
   ]
  },
  {
   "cell_type": "markdown",
   "id": "cb77ef8b",
   "metadata": {},
   "source": [
    "### <font color='blue'>Select and show both prediction and label columns</font>"
   ]
  },
  {
   "cell_type": "code",
   "execution_count": 50,
   "id": "842a3d2d",
   "metadata": {},
   "outputs": [
    {
     "name": "stdout",
     "output_type": "stream",
     "text": [
      "+----------+------+\n",
      "|prediction|stroke|\n",
      "+----------+------+\n",
      "|       1.0|     1|\n",
      "|       1.0|     1|\n",
      "|       1.0|     1|\n",
      "|       1.0|     1|\n",
      "|       1.0|     1|\n",
      "|       1.0|     1|\n",
      "|       1.0|     1|\n",
      "|       1.0|     1|\n",
      "|       1.0|     1|\n",
      "|       1.0|     1|\n",
      "|       1.0|     1|\n",
      "|       1.0|     1|\n",
      "|       1.0|     1|\n",
      "|       1.0|     1|\n",
      "|       1.0|     1|\n",
      "|       1.0|     1|\n",
      "|       1.0|     1|\n",
      "|       1.0|     1|\n",
      "|       1.0|     1|\n",
      "|       1.0|     1|\n",
      "+----------+------+\n",
      "only showing top 20 rows\n",
      "\n"
     ]
    }
   ],
   "source": [
    "pred_W.select(['prediction', 'stroke']).filter(fn.col('stroke') == 1).show()"
   ]
  },
  {
   "cell_type": "markdown",
   "id": "83be2d9a",
   "metadata": {},
   "source": [
    "#### <font color='red'>Comment: </font>Now the predicted values matches the actual values better."
   ]
  },
  {
   "cell_type": "markdown",
   "id": "877558c6",
   "metadata": {},
   "source": [
    "### <font color='blue'>Count the predicted 1 and 0 values.notice the result</font>"
   ]
  },
  {
   "cell_type": "code",
   "execution_count": 51,
   "id": "c9bd703c",
   "metadata": {
    "scrolled": true
   },
   "outputs": [
    {
     "name": "stdout",
     "output_type": "stream",
     "text": [
      "+----------+-----+\n",
      "|prediction|count|\n",
      "+----------+-----+\n",
      "|       0.0|  633|\n",
      "|       1.0|  285|\n",
      "+----------+-----+\n",
      "\n"
     ]
    }
   ],
   "source": [
    "pred_W.groupBy('prediction').count().show()"
   ]
  },
  {
   "cell_type": "markdown",
   "id": "469ee303",
   "metadata": {},
   "source": [
    "### <font color='blue'>Enhanced model evaluation</font>"
   ]
  },
  {
   "cell_type": "code",
   "execution_count": 52,
   "id": "4e8c18b5",
   "metadata": {},
   "outputs": [
    {
     "data": {
      "text/plain": [
       "0.8170077000951007"
      ]
     },
     "execution_count": 52,
     "metadata": {},
     "output_type": "execute_result"
    }
   ],
   "source": [
    "evaluatorROC.evaluate(pred_W)"
   ]
  }
 ],
 "metadata": {
  "kernelspec": {
   "display_name": "Python 3 (ipykernel)",
   "language": "python",
   "name": "python3"
  },
  "language_info": {
   "codemirror_mode": {
    "name": "ipython",
    "version": 3
   },
   "file_extension": ".py",
   "mimetype": "text/x-python",
   "name": "python",
   "nbconvert_exporter": "python",
   "pygments_lexer": "ipython3",
   "version": "3.9.12"
  }
 },
 "nbformat": 4,
 "nbformat_minor": 5
}
